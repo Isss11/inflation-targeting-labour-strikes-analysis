{
 "cells": [
  {
   "cell_type": "code",
   "execution_count": 10,
   "metadata": {},
   "outputs": [],
   "source": [
    "import pandas as pd\n",
    "\n",
    "# Read Statistics Canada formatted data\n",
    "strikeCountsDf = pd.read_csv('data/strikes/strike-count.csv')\n",
    "strikeAverageDurationsDf = pd.read_csv('data/strikes/strike-average-duration.csv')\n",
    "strikeDaysNotWorkedDf = pd.read_csv('data/strikes/strike-days-not-worked.csv')\n",
    "\n",
    "# Read FRED Data\n",
    "unemploymentDf = pd.read_csv('data/unemployment.csv')\n",
    "realGdpDf = pd.read_csv('data/real-gdp.csv')\n",
    "inflationDf = pd.read_csv('data/inflation.csv')\n",
    "populationDf = pd.read_csv('data/population.csv')\n",
    "\n",
    "# Read Labour Share Data\n",
    "# Household Compensation is Statistics Canada data, but it has been modified in Excel to have years as the dates\n",
    "householdCompensationDf = pd.read_csv('data/labour-share/household-compensation.csv')\n",
    "\n",
    "# Nominal GDP is Fred data\n",
    "nominalGdpDf = pd.read_csv('data/labour-share/nominal-gdp.csv')"
   ]
  },
  {
   "cell_type": "code",
   "execution_count": 11,
   "metadata": {},
   "outputs": [],
   "source": [
    "# Cleaning data\n",
    "# Convert all FRED dates to the just a year\n",
    "def convertToYears(date):\n",
    "    return int(date[:4])\n",
    "\n",
    "fredDfs = [unemploymentDf, realGdpDf, inflationDf, populationDf, nominalGdpDf]\n",
    "\n",
    "for df in fredDfs:\n",
    "    df['DATE'] = df['DATE'].apply(convertToYears)\n",
    "\n",
    "# Rename datasets and drop unnecessary rows\n",
    "strikeCountsDf = strikeCountsDf.rename(columns={'VALUE': 'strikeCounts'})\n",
    "strikeAverageDurationsDf = strikeAverageDurationsDf.rename(columns={'VALUE': 'strikeAverageDurations'})\n",
    "strikeDaysNotWorkedDf = strikeDaysNotWorkedDf.rename(columns={'VALUE': 'daysNotWorkedDueToStrikes'})\n",
    "\n",
    "householdCompensationDf = householdCompensationDf.rename(columns={'VALUE': 'householdCompensation'})\n",
    "nominalGdpDf = nominalGdpDf.rename(columns={'NGDPXDCCAA': 'nominalGdp'})\n",
    "\n",
    "realGdpDf = realGdpDf.rename(columns={'NGDPRSAXDCCAQ': 'realGdp'})\n",
    "unemploymentDf = unemploymentDf.rename(columns={'LRUNTTTTCAA156S': 'unemploymentRate'})\n",
    "inflationDf = inflationDf.rename(columns={'FPCPITOTLZGCAN': 'inflationRate'})\n",
    "populationDf = populationDf.rename(columns={'POPTOTCAA647NWDB': 'population'})\n"
   ]
  },
  {
   "cell_type": "code",
   "execution_count": 12,
   "metadata": {},
   "outputs": [
    {
     "name": "stdout",
     "output_type": "stream",
     "text": [
      "    DATE  strikeCounts_x  strikeCounts_y  strikeAverageDurations  \\\n",
      "0   1961             287             287                    17.8   \n",
      "1   1962             311             311                    18.3   \n",
      "2   1963             332             332                    19.7   \n",
      "3   1964             343             343                    21.9   \n",
      "4   1965             502             502                    20.0   \n",
      "..   ...             ...             ...                     ...   \n",
      "58  2019             128             128                    33.2   \n",
      "59  2020              66              66                    44.5   \n",
      "60  2021             186             186                    23.4   \n",
      "61  2022             176             176                    57.6   \n",
      "62  2023             778             778                    24.5   \n",
      "\n",
      "    daysNotWorkedDueToStrikes  unemploymentRate   NGDPRXDCCAA  inflationRate  \\\n",
      "0                     1335080          7.183333  3.766743e+05       1.018767   \n",
      "1                     1417360          5.958333  4.046531e+05       1.061571   \n",
      "2                      916990          5.583333  4.260893e+05       1.628151   \n",
      "3                     1580090          4.708333  4.544499e+05       1.912145   \n",
      "4                     2301090          3.950000  4.831583e+05       2.332657   \n",
      "..                        ...               ...           ...            ...   \n",
      "58                    1212938          5.691667  2.241331e+06       1.949269   \n",
      "59                    1451556          9.691667  2.128408e+06       0.717000   \n",
      "60                    1323637          7.541667  2.240936e+06       3.395193   \n",
      "61                    1896262          5.300000  2.326537e+06       6.802801   \n",
      "62                    6584618          5.425000  2.355593e+06       3.879002   \n",
      "\n",
      "    population  householdCompensation  nominalGdp  \n",
      "0     18271000                  21164       42026  \n",
      "1     18614000                  22766       45739  \n",
      "2     18964000                  24296       49213  \n",
      "3     19325000                  26554       53975  \n",
      "4     19678000                  29604       59551  \n",
      "..         ...                    ...         ...  \n",
      "58    37618495                1168596     2313563  \n",
      "59    38028638                1155843     2220527  \n",
      "60    38239864                1264002     2517123  \n",
      "61    38939056                1380065     2813289  \n",
      "62    40097761                1470746     2892140  \n",
      "\n",
      "[63 rows x 11 columns]\n"
     ]
    }
   ],
   "source": [
    "# Merge into one dataframe\n",
    "allDfs = [strikeCountsDf, strikeAverageDurationsDf, strikeDaysNotWorkedDf, unemploymentDf, realGdpDf, inflationDf, populationDf, householdCompensationDf, nominalGdpDf]\n",
    "\n",
    "fullDf = strikeCountsDf\n",
    "\n",
    "for df in allDfs:\n",
    "    fullDf = pd.merge(fullDf, df, on='DATE')\n",
    "    \n",
    "print(fullDf)"
   ]
  }
 ],
 "metadata": {
  "kernelspec": {
   "display_name": "myenv",
   "language": "python",
   "name": "python3"
  },
  "language_info": {
   "codemirror_mode": {
    "name": "ipython",
    "version": 3
   },
   "file_extension": ".py",
   "mimetype": "text/x-python",
   "name": "python",
   "nbconvert_exporter": "python",
   "pygments_lexer": "ipython3",
   "version": "3.10.13"
  }
 },
 "nbformat": 4,
 "nbformat_minor": 2
}
