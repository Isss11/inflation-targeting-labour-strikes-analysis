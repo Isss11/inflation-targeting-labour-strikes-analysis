{
 "cells": [
  {
   "cell_type": "code",
   "execution_count": 4,
   "metadata": {},
   "outputs": [],
   "source": [
    "import pandas\n",
    "\n",
    "# Importing data and cleaning it\n",
    "strikesDf = pandas.read_csv('data/strike-incidence.csv')\n",
    "inflationDf = pandas.read_csv('data/inflation.csv')\n",
    "unemploymentDf = pandas.read_csv('data/unemployment.csv')\n",
    "labourShareDf = pandas.read_csv('data/labour-share-of-income.csv')\n",
    "realGdpDf = pandas.read_csv('data/real-gdp.csv')"
   ]
  }
 ],
 "metadata": {
  "kernelspec": {
   "display_name": "myenv",
   "language": "python",
   "name": "python3"
  },
  "language_info": {
   "codemirror_mode": {
    "name": "ipython",
    "version": 3
   },
   "file_extension": ".py",
   "mimetype": "text/x-python",
   "name": "python",
   "nbconvert_exporter": "python",
   "pygments_lexer": "ipython3",
   "version": "3.10.13"
  }
 },
 "nbformat": 4,
 "nbformat_minor": 2
}
