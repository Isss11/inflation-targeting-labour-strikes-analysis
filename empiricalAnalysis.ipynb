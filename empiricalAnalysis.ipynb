{
 "cells": [
  {
   "cell_type": "code",
   "execution_count": 221,
   "metadata": {},
   "outputs": [],
   "source": [
    "import pandas as pd\n",
    "\n",
    "# Read data\n",
    "strikeCountsDf = pd.read_csv('data/strike-count.csv')\n",
    "cpiDf = pd.read_csv('data/cpi.csv')\n",
    "\n",
    "unemploymentDf = pd.read_csv('data/unemployment.csv')\n",
    "labourShareDf = pd.read_csv('data/labour-share-of-income.csv')\n",
    "realGdpDf = pd.read_csv('data/real-gdp.csv')"
   ]
  },
  {
   "cell_type": "code",
   "execution_count": 222,
   "metadata": {},
   "outputs": [],
   "source": [
    "# Cleaning data\n",
    "# Convert all FRED dates to the just a year\n",
    "def convertToYears(date):\n",
    "    return int(date[:4])\n",
    "\n",
    "fredDfs = [unemploymentDf, labourShareDf, realGdpDf]\n",
    "\n",
    "for df in fredDfs:\n",
    "    df['DATE'] = df['DATE'].apply(convertToYears)\n",
    "\n",
    "cpiDf = cpiDf[['REF_DATE', 'VALUE']]\n",
    "strikeCountsDf = strikeCountsDf[['REF_DATE', 'VALUE']]\n",
    "\n",
    "# Rename datasets and drop unnecessary rows\n",
    "cpiDf = cpiDf.rename(columns={'REF_DATE': 'DATE', 'VALUE': 'annualCpi'})\n",
    "strikeCountsDf = strikeCountsDf.rename(columns={'REF_DATE': 'DATE', 'VALUE': 'strikeCounts'})\n",
    "labourShareDf = labourShareDf.rename(columns={'LABSHPCAA156NRUG': 'labourShare'})\n",
    "realGdpDf = realGdpDf.rename(columns={'NGDPRSAXDCCAQ': 'realGdp'})\n",
    "unemploymentDf = unemploymentDf.rename(columns={'LRUNTTTTCAA156S': 'unemploymentRate'})"
   ]
  },
  {
   "cell_type": "code",
   "execution_count": 223,
   "metadata": {},
   "outputs": [
    {
     "name": "stdout",
     "output_type": "stream",
     "text": [
      "       date  strikeCounts  annualCpi\n",
      "0    1946.0         227.0       15.7\n",
      "1    1947.0         234.0       15.9\n",
      "2    1948.0         154.0       16.1\n",
      "3    1949.0         135.0       16.4\n",
      "4    1950.0         161.0       16.8\n",
      "..      ...           ...        ...\n",
      "978     NaN           NaN      149.2\n",
      "979     NaN           NaN      151.3\n",
      "980     NaN           NaN      154.8\n",
      "981     NaN           NaN      162.6\n",
      "982     NaN           NaN      170.1\n",
      "\n",
      "[983 rows x 3 columns]\n"
     ]
    }
   ],
   "source": [
    "# Since the latest date we have available in the datasets in 1961, we're going to drop all rows before then for each dataset\n",
    "dfs = [strikeCountsDf, cpiDf, unemploymentDf, labourShareDf, realGdpDf]\n",
    "newDfs = []\n",
    "\n",
    "for df in dfs:\n",
    "    isRowDroppable = df['DATE'] < 1961\n",
    "    newDf = df[~isRowDroppable]\n",
    "    newDfs.append(newDf)\n",
    "    \n",
    "# Combining all the values into a single dataframe\n",
    "df = pd.DataFrame(data={'date': strikeCountsDf['DATE'], 'strikeCounts': strikeCountsDf['strikeCounts'],\n",
    "                        'annualCpi': cpiDf['annualCpi']})\n",
    "\n",
    "print(df)"
   ]
  }
 ],
 "metadata": {
  "kernelspec": {
   "display_name": "myenv",
   "language": "python",
   "name": "python3"
  },
  "language_info": {
   "codemirror_mode": {
    "name": "ipython",
    "version": 3
   },
   "file_extension": ".py",
   "mimetype": "text/x-python",
   "name": "python",
   "nbconvert_exporter": "python",
   "pygments_lexer": "ipython3",
   "version": "3.10.13"
  }
 },
 "nbformat": 4,
 "nbformat_minor": 2
}
