{
 "cells": [
  {
   "cell_type": "code",
   "execution_count": 63,
   "metadata": {},
   "outputs": [],
   "source": [
    "import pandas as pd\n",
    "\n",
    "# Read Statistics Canada formatted data\n",
    "strikeCountsDf = pd.read_csv('data/strikes/strike-count.csv')\n",
    "strikeAverageDurationsDf = pd.read_csv('data/strikes/strike-average-duration.csv')\n",
    "strikeDaysNotWorkedDf = pd.read_csv('data/strikes/strike-days-not-worked.csv')\n",
    "\n",
    "# Read FRED Data\n",
    "unemploymentDf = pd.read_csv('data/unemployment.csv')\n",
    "realGdpDf = pd.read_csv('data/real-gdp.csv')\n",
    "inflationDf = pd.read_csv('data/inflation.csv')\n",
    "populationDf = pd.read_csv('data/population.csv')\n",
    "\n",
    "# Read Labour Share Data\n",
    "# Household Compensation is Statistics Canada data, but it has been modified in Excel to have years as the dates\n",
    "householdCompensationDf = pd.read_csv('data/labour-share/household-compensation.csv')\n",
    "\n",
    "# Nominal GDP is Fred data\n",
    "nominalGdpDf = pd.read_csv('data/labour-share/nominal-gdp.csv')"
   ]
  },
  {
   "cell_type": "code",
   "execution_count": 64,
   "metadata": {},
   "outputs": [],
   "source": [
    "# Cleaning data\n",
    "# Convert all FRED dates to the just a year\n",
    "def convertToYears(date):\n",
    "    return int(date[:4])\n",
    "\n",
    "fredDfs = [unemploymentDf, realGdpDf, inflationDf, populationDf, nominalGdpDf]\n",
    "\n",
    "for df in fredDfs:\n",
    "    df['DATE'] = df['DATE'].apply(convertToYears)\n",
    "\n",
    "# Rename datasets and drop unnecessary rows\n",
    "strikeCountsDf = strikeCountsDf.rename(columns={'VALUE': 'strikeCounts'})\n",
    "strikeAverageDurationsDf = strikeAverageDurationsDf.rename(columns={'VALUE': 'strikeAverageDurations'})\n",
    "strikeDaysNotWorkedDf = strikeDaysNotWorkedDf.rename(columns={'VALUE': 'strikesDaysNotWorked'})\n",
    "\n",
    "householdCompensationDf = householdCompensationDf.rename(columns={'VALUE': 'householdCompensation'})\n",
    "nominalGdpDf = nominalGdpDf.rename(columns={'NGDPXDCCAA': 'nominalGdp'})\n",
    "\n",
    "realGdpDf = realGdpDf.rename(columns={'NGDPRXDCCAA': 'realGdp'})\n",
    "unemploymentDf = unemploymentDf.rename(columns={'LRUNTTTTCAA156S': 'unemploymentRate'})\n",
    "inflationDf = inflationDf.rename(columns={'FPCPITOTLZGCAN': 'inflationRate'})\n",
    "populationDf = populationDf.rename(columns={'POPTOTCAA647NWDB': 'population'})\n"
   ]
  },
  {
   "cell_type": "code",
   "execution_count": 65,
   "metadata": {},
   "outputs": [],
   "source": [
    "# Merge into one dataframe\n",
    "allDfs = [strikeCountsDf, strikeAverageDurationsDf, strikeDaysNotWorkedDf, unemploymentDf, realGdpDf, inflationDf, populationDf, householdCompensationDf, nominalGdpDf]\n",
    "\n",
    "fullDf = strikeCountsDf\n",
    "\n",
    "for df in allDfs[1:]:\n",
    "    fullDf = pd.merge(fullDf, df, on='DATE')\n",
    "    \n",
    "fullDf = fullDf.rename(columns={'DATE': 'year'})"
   ]
  },
  {
   "cell_type": "code",
   "execution_count": 66,
   "metadata": {},
   "outputs": [],
   "source": [
    "import numpy as np\n",
    "\n",
    "# Create all variables\n",
    "\n",
    "# Create labour share variable\n",
    "fullDf['labourShare'] = fullDf['householdCompensation'] / fullDf['nominalGdp']\n",
    "\n",
    "# Make strike counts and days not worked due to strikes relative to 1000 people, to adjust for population size\n",
    "# Strike duration does not need to be adjusted for this, as it is measuring time\n",
    "peopleRatioForStrikes = 1000\n",
    "\n",
    "fullDf['strikeCounts'] = (fullDf['strikeCounts'] / fullDf['population']) * peopleRatioForStrikes\n",
    "fullDf['strikesDaysNotWorked'] = (fullDf['strikesDaysNotWorked'] / fullDf['population']) * peopleRatioForStrikes\n",
    "\n",
    "# Create *approximated* growth rate in real GDP\n",
    "# Uses log differences and the Taylor Series to approximate the growth rate \n",
    "\n",
    "fullDf['realGdpGrowthRate'] = np.log(fullDf['realGdp'])\n",
    "fullDf['realGdpGrowthRate'] =  fullDf['realGdpGrowthRate'].diff()"
   ]
  }
 ],
 "metadata": {
  "kernelspec": {
   "display_name": "myenv",
   "language": "python",
   "name": "python3"
  },
  "language_info": {
   "codemirror_mode": {
    "name": "ipython",
    "version": 3
   },
   "file_extension": ".py",
   "mimetype": "text/x-python",
   "name": "python",
   "nbconvert_exporter": "python",
   "pygments_lexer": "ipython3",
   "version": "3.10.13"
  }
 },
 "nbformat": 4,
 "nbformat_minor": 2
}
