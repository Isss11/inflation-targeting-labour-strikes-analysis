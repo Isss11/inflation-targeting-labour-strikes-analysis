{
 "cells": [
  {
   "cell_type": "code",
   "execution_count": 2,
   "metadata": {},
   "outputs": [],
   "source": [
    "import pandas as pd\n",
    "\n",
    "# Read strike data (Statistics Canada)\n",
    "strikeCountsDf = pd.read_csv('data/strikes/strike-count.csv')\n",
    "strikeAverageDurationsDf = pd.read_csv('data/strikes/strike-average-duration.csv')\n",
    "strikeDaysNotWorkedDf = pd.read_csv('data/strikes/strike-days-not-worked.csv')\n",
    "\n",
    "# Read FRED Data\n",
    "unemploymentDf = pd.read_csv('data/unemployment.csv')\n",
    "labourShareDf = pd.read_csv('data/labour-share-of-income.csv')\n",
    "realGdpDf = pd.read_csv('data/real-gdp.csv')\n",
    "inflationDf = pd.read_csv('data/inflation.csv')\n",
    "populationDf = pd.read_csv('data/population.csv')"
   ]
  },
  {
   "cell_type": "code",
   "execution_count": 3,
   "metadata": {},
   "outputs": [],
   "source": [
    "# Cleaning data\n",
    "# Convert all FRED dates to the just a year\n",
    "def convertToYears(date):\n",
    "    return int(date[:4])\n",
    "\n",
    "fredDfs = [unemploymentDf, labourShareDf, realGdpDf, inflationDf, populationDf]\n",
    "\n",
    "for df in fredDfs:\n",
    "    df['DATE'] = df['DATE'].apply(convertToYears)\n",
    "\n",
    "# Rename datasets and drop unnecessary rows\n",
    "strikeCountsDf = strikeCountsDf.rename(columns={'VALUE': 'strikeCounts'})\n",
    "strikeAverageDurationsDf = strikeAverageDurationsDf.rename(columns={'VALUE': 'strikeAverageDurations'})\n",
    "strikeDaysNotWorkedDf = strikeDaysNotWorkedDf.rename(columns={'VALUE': 'daysNotWorkedDueToStrikes'})\n",
    "labourShareDf = labourShareDf.rename(columns={'LABSHPCAA156NRUG': 'labourShare'})\n",
    "realGdpDf = realGdpDf.rename(columns={'NGDPRSAXDCCAQ': 'realGdp'})\n",
    "unemploymentDf = unemploymentDf.rename(columns={'LRUNTTTTCAA156S': 'unemploymentRate'})\n",
    "inflationDf = inflationDf.rename(columns={'FPCPITOTLZGCAN': 'inflationRate'})\n",
    "populationDf = populationDf.rename(columns={'POPTOTCAA647NWDB': 'population'})"
   ]
  }
 ],
 "metadata": {
  "kernelspec": {
   "display_name": "myenv",
   "language": "python",
   "name": "python3"
  },
  "language_info": {
   "codemirror_mode": {
    "name": "ipython",
    "version": 3
   },
   "file_extension": ".py",
   "mimetype": "text/x-python",
   "name": "python",
   "nbconvert_exporter": "python",
   "pygments_lexer": "ipython3",
   "version": "3.10.13"
  }
 },
 "nbformat": 4,
 "nbformat_minor": 2
}
